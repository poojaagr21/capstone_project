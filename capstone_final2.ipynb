{
  "nbformat": 4,
  "nbformat_minor": 0,
  "metadata": {
    "colab": {
      "name": "capstone_final2.ipynb",
      "provenance": [],
      "collapsed_sections": []
    },
    "kernelspec": {
      "name": "python3",
      "display_name": "Python 3"
    },
    "language_info": {
      "name": "python"
    },
    "accelerator": "GPU"
  },
  "cells": [
    {
      "cell_type": "code",
      "metadata": {
        "id": "xtXs_XHpxgtt"
      },
      "source": [
        "example1 = \"/content/doc.txt\"\n",
        "file2 = open(example1, \"r\")\n",
        "FileContent2 = file2.read()\n",
        "FileContent2\n",
        "import requests\n",
        "from bs4 import BeautifulSoup\n",
        "soup2 = BeautifulSoup(FileContent2, \"html.parser\")\n",
        "results = soup2.find(id=\"reviews-target-element\")\n",
        "\n",
        "#job_elements2 = soup2.find_all(\"div\", class_=\"sc-1opoey3-0 btunwM sc-1ct2r0d-1 hkwcYU\")\n",
        "#print(job_elements2)"
      ],
      "execution_count": 4,
      "outputs": []
    },
    {
      "cell_type": "code",
      "metadata": {
        "colab": {
          "base_uri": "https://localhost:8080/"
        },
        "id": "zOsEqqE-4ef5",
        "outputId": "3dcedb12-3e27-45cc-83fb-a7354503a760"
      },
      "source": [
        "#to find the ratings\n",
        "review_elements = soup2.find_all(\"div\", class_=\"ckodym-1 gHUzxY sc-166icl4-1 hxtUIZ\")\n",
        "rev = []\n",
        "for review in review_elements:\n",
        "  #rev =review.find('svg', {'class':\"sc-14oxdvn-0 ckodym-0 brPjVo\"})['data-rating'])\n",
        "  rev.append(review.find('svg', {'class':\"sc-14oxdvn-0 ckodym-0 brPjVo\"})['data-rating'])\n",
        "print(rev)"
      ],
      "execution_count": 5,
      "outputs": [
        {
          "output_type": "stream",
          "name": "stdout",
          "text": [
            "['5', '5', '5', '5', '5', '5', '5', '5', '5', '5', '5', '5', '5', '5', '5', '5', '5', '5', '5', '5', '5', '5', '5', '5', '5', '5', '5', '5', '5', '2', '5', '5', '5', '5', '5', '2', '5', '5', '5', '5', '5', '5', '5', '5', '5', '5', '5', '5', '5', '5']\n"
          ]
        }
      ]
    },
    {
      "cell_type": "code",
      "metadata": {
        "colab": {
          "base_uri": "https://localhost:8080/"
        },
        "id": "dzUi9N7S9zCq",
        "outputId": "4eda409b-99d1-40ce-efab-d67f83a56261"
      },
      "source": [
        "#to find the review text\n",
        "rating_coment = soup2.find_all(\"div\", class_=\"sc-1ct2r0d-2 hpCZUn\")\n",
        "com=[]\n",
        "for comment in rating_coment:\n",
        "  #rev =review.find('svg', {'class':\"sc-14oxdvn-0 ckodym-0 brPjVo\"})['data-rating'])\n",
        "  com.append(comment.find(\"span\").get_text())\n",
        "  \n",
        "print(com)"
      ],
      "execution_count": 6,
      "outputs": [
        {
          "output_type": "stream",
          "name": "stdout",
          "text": [
            "['Very friendly doctor and really nice staff.  I was seen immediately with no wait and the doctor didn’t make me feel rushed ', 'I’ve found my new primary care doctor! I love how he listened to all my concerns and I didn’t feel rushed.', 'Dr. Matalia was personable and professional. I was comfortable speaking with him. A good experience. ', 'Dr. Matalia and the rest of the office were great! He spent plenty of time with me and listened to all of my concerns.', 'Very empathetic, patient snd caring. So glad I found this wonderful primary. His team is also awesome and very friendly.', 'By far the best physician I have been to. Very transparent and gave me great recommendations. ', 'Excellent. Love how he took his time and answered all of my questions and addressed my concerns', 'Dr. Matalia and his staff are kind and professional. They take the time to listen to you and are very thorough.', 'The office staff is friendly snd helpful. Dr. Matalia is very thorough and listens ', \"Takes time to make sure I understood everything and answered all of my questions and didn't have a long wait time!!\", 'Staff was great, friendly and knowledgeable. Doc was very good as well, thorough ', 'He is the best!! Seriously. Empathetic, kind, friendly and knowledgeable. Good to know he is there. ', 'Pleasant once I got to see him but the wait time was way to long', 'My initial exam, I thought, was thorough. My impression of the doctor’s professionalism was very good.', 'Dr. Matalia is a good listener and very professional. He is very thorough.', 'Dr Matalia was really nice and helpful for my medical needs. I would visit again', 'Very thorough and professional.  He spent the time rather than rushing to the next patient.', 'He took care of my immediate needs during our appt today.', 'Dr. Matalia is very kind, thorough, and takes your concerns seriously.', 'Easy to talk to and very informative. My first time here and I glad I found my doctor.', 'Dr Natalia is excellent. I would recommend him to everyone', 'Excellent MD, understanding and has great people skills', 'Excellent! No wait. Friendly staff - receptionist, RN Maria and doctor. ', 'He’s so good I brought my 88 yo Mother to see him.', 'Very nice physician.  Thorough and communicated well. ', 'I was able to book my appointment with no issues.', 'Everyone was friendly and helpful.', 'The entire process was a breeze. The follow up appointments were also clearly listed. A very pleasant and professional experience.', 'Excellent bedside manner', 'Not the nicest or I should say best doctor that listens to patient that a particular medicine caused problems for me in the past...he continued to try and push medication because of a rash I came in for.  Ended up going to city md next day and I had covid. Possible covid rash. \\n.', 'Great and friendly doctor!', 'Excellent and friendly staff', 'Great visit', 'Great experience, Doctor Neil was great!', 'I wish I had seen him sooner. Honestly the best doctor I have ever encountered. He is knowledgeable, kind hearted and is honest with you. He is now my PCP and I am so happy to finally have found a doctor that helps!', 'Ultimately, I booked a \"bloodwork\" appointment, but left with no bloodwork drawn. I put specifically in the comments that I was coming in for that, but no one followed up to let me know that I had to make an AM appointment to draw blood. It took over 30 minutes to be seen, they have a very antiquated system, in which took another 20 minutes to just \"set me up\" - and the doctor was cocky and treated me like I was 15. Also, I am LGBT, and was confused with the wrong sex multiple times. ', 'Good doctor.', 'Great staff. Friendly and professional ', 'I wish I met this doctor sooner! He’s very nice, actually listens and truly wants to help. The wait time was delayed but I didn’t mind since when I got to talk to him I wasn’t rushed so I believe that’s why sometimes there’s a time delay. 100 % recommend!', 'Very clear and helpful', \"I didn't get any response from the chat system that tells the office you are waiting in your car.  I wasted 10 minutes waiting and had to call the office directly.  After that everything went smoothly.\", 'Doc it was the water pill that was needed it dropped down to 140 over 86 ! Just wanna thank u for the follow up visit it was clutch !', 'Visit was a overall good experience . He is very caring and a great listener.\\nHit all points of concern with patience and sincerely took his time to help address a plan of action.', 'Very pleasant treatment from everyone.', \"Extremely prompt, professional and helpful via an urgent teledoc appointment. I had never been a patient of Dr. Matalia's before, but would definitely recommend him to others. \", \"The appointment went well and the doctor was great. The staff was very helpful. ZocDoc did not send the correct information, so I was wiaitng for an email that was never sent. ZocDoc did not give the doctor's office my email or the correct insurance, so I called right away when I did not receive an email and corrected that with them. Everything else went well! \", 'Dr. Matalia has always been very patient and thorough with all my visits. You leave his visits feeling that everything will be ok which is something I need to feel.', 'He was amazing ! Thank you DR!', 'Great visit. Great doctor and nurse', 'Great guy. Highly recommended.']\n"
          ]
        }
      ]
    },
    {
      "cell_type": "code",
      "metadata": {
        "colab": {
          "base_uri": "https://localhost:8080/"
        },
        "id": "v_MH4wibB7hk",
        "outputId": "83a5b97b-9ba1-4866-f224-694aed985b2c"
      },
      "source": [
        "review_data1 = soup2.find_all(\"div\", class_=\"sc-1ct2r0d-3 fEDjKu\")\n",
        "review_author=[]\n",
        "review_source=[]\n",
        "rating_date=[]\n",
        "for item in review_data1:\n",
        "  Number_of_spans = len(item.find_all(\"span\"))\n",
        "  author=item.find_all(\"span\")[1].get_text()\n",
        "  rating_date.append(item.find(\"span\").get_text())\n",
        "  review_author.append(author)\n",
        "  if (Number_of_spans<3):\n",
        "    review_source.append('No source')\n",
        "  else:\n",
        "    review_source.append(item.find_all(\"span\")[2].get_text())\n",
        "print(review_author)\n",
        "print((review_source))\n",
        "print(rating_date)"
      ],
      "execution_count": 65,
      "outputs": [
        {
          "output_type": "stream",
          "name": "stdout",
          "text": [
            "['Initials hidden', 'Tara M.', 'Patrick B.', 'Stephanie B.', 'Johanna M.', 'Jairon G.', 'Luis F.', 'Initials hidden', 'Nicolina P.', 'Naketa H V.', 'Sean W.', 'James K.', 'Fabrizio F.', 'Antonio G.', 'Initials hidden', 'Neha R.', 'Talia G.', 'Sue W.', 'Initials hidden', 'Jerry W.', 'Timothy M.', 'Maureen S.', 'LP', 'Initials hidden', 'Nancy B.', 'Initials hidden', 'Verne B.', 'Initials hidden', 'Initials hidden', 'Initials hidden', 'Ron Z.', 'Arely R.', 'George K.', 'Initials hidden', 'Erika G.', 'Initials hidden', 'Initials hidden', 'Timothy M.', 'Erika G.', 'Jonathan O.', 'Marc D.', 'Gerardo G.', 'Michael B.', 'Alberto N.', 'Andie D.', 'Dominick G.', 'Initials hidden', 'Initials hidden', 'Initials hidden', 'Joseph D.']\n",
            "['No source', 'Verified patient', 'Verified patient', 'Verified patient', 'Verified patient', 'Verified patient', 'Verified patient', 'No source', 'Verified patient', 'Verified patient', 'Verified patient', 'Verified patient', 'Verified patient', 'Verified patient', 'Video visit', 'Verified patient', 'Verified patient', 'Verified patient', 'No source', 'Verified patient', 'Verified patient', 'Verified patient', 'No source', 'No source', 'Verified patient', 'No source', 'Verified patient', 'No source', 'No source', 'No source', 'Verified patient', 'Verified patient', 'Verified patient', 'No source', 'Verified patient', 'No source', 'No source', 'Verified patient', 'Verified patient', 'Verified patient', 'Verified patient', 'Verified patient', 'Verified patient', 'Verified patient', 'Verified patient', 'Verified patient', 'Video visit', 'Video visit', 'No source', 'Verified patient']\n",
            "['Less than 6 months ago', 'August 24, 2021', 'September 20, 2021', 'January 11, 2021', 'November 24, 2020', 'March 15, 2021', 'February 8, 2021', 'More than 1 year ago', 'March 30, 2021', 'October 1, 2019', 'March 6, 2021', 'June 26, 2019', 'February 23, 2021', 'April 26, 2018', 'More than 1 year ago', 'November 26, 2019', 'July 11, 2018', 'November 25, 2020', 'January 8, 2020', 'September 26, 2017', 'More than 1 year ago', 'March 30, 2020', 'More than 1 year ago', 'More than 1 year ago', 'More than 1 year ago', 'Less than 1 month ago', 'September 3, 2021', 'Less than 3 months ago', 'Less than 6 months ago', 'June 21, 2021', 'June 8, 2021', 'June 8, 2021', 'June 7, 2021', 'June 7, 2021', 'May 25, 2021', 'May 18, 2021', 'Less than 6 months ago', 'May 14, 2021', 'April 20, 2021', 'April 14, 2021', 'April 3, 2021', 'February 5, 2021', 'January 19, 2021', 'January 7, 2021', 'December 9, 2020', 'November 18, 2020', 'Less than 1 year ago', 'Less than 1 year ago', 'More than 1 year ago', 'February 25, 2020']\n"
          ]
        }
      ]
    }
  ]
}